{
 "cells": [
  {
   "cell_type": "markdown",
   "metadata": {},
   "source": [
<<<<<<< HEAD:README.ipynb
    "# Big Data Bandits\n",
    "\n",
    "A Project-Group of the DHBW Karlsruhe participating in a AI-powerd World."
=======
    "# Big Data Bandits \n"
>>>>>>> 176d01b33be02992561c9d62c63789f217542f4e:Elaboration.ipynb
   ]
  },
  {
   "cell_type": "markdown",
   "metadata": {},
   "source": []
  }
 ],
 "metadata": {
  "language_info": {
   "name": "python"
  }
 },
 "nbformat": 4,
 "nbformat_minor": 2
}
